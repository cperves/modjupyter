{
 "cells": [
  {
   "cell_type": "raw",
   "id": "8ed932bc-a1cb-46f2-b4dc-1d7e71cc8fef",
   "metadata": {},
   "source": [
    "ceci est du brut\n",
    "répond moi petit chat"
   ]
  },
  {
   "cell_type": "code",
   "execution_count": null,
   "id": "07456a50-75da-4321-bea7-2a48e701dbf9",
   "metadata": {},
   "outputs": [],
   "source": []
  },
  {
   "cell_type": "markdown",
   "id": "26ce28ff-bbb2-454c-9eca-d4b0dec73559",
   "metadata": {},
   "source": [
    "# markdonw"
   ]
  }
 ],
 "metadata": {
  "kernelspec": {
   "display_name": "Python 3 (ipykernel)",
   "language": "python",
   "name": "python3"
  },
  "language_info": {
   "codemirror_mode": {
    "name": "ipython",
    "version": 3
   },
   "file_extension": ".py",
   "mimetype": "text/x-python",
   "name": "python",
   "nbconvert_exporter": "python",
   "pygments_lexer": "ipython3",
   "version": "3.10.8"
  }
 },
 "nbformat": 4,
 "nbformat_minor": 5
}
